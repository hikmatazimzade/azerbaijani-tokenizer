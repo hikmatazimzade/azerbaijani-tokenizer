{
 "cells": [
  {
   "cell_type": "code",
   "id": "initial_id",
   "metadata": {
    "collapsed": true,
    "ExecuteTime": {
     "end_time": "2025-08-18T12:04:52.396773Z",
     "start_time": "2025-08-18T12:04:49.160886Z"
    }
   },
   "source": [
    "from transformers import PreTrainedTokenizerFast\n",
    "\n",
    "xlm_roberta_tokenizer = PreTrainedTokenizerFast.from_pretrained(\n",
    "    \"FacebookAI/xlm-roberta-base\")\n",
    "\n",
    "bert_multilingual_tokenizer = PreTrainedTokenizerFast.from_pretrained(\"google-bert/bert-base-multilingual-cased\")\n",
    "\n",
    "azerbaijani_bpe_tokenizer = PreTrainedTokenizerFast.from_pretrained(\n",
    "    \"hikmatazimzade/azerbaijani-bpe-tokenizer\")\n",
    "\n",
    "\n",
    "azerbaijani_unigram_tokenizer = PreTrainedTokenizerFast.from_pretrained(\n",
    "    \"hikmatazimzade/azerbaijani-unigram-tokenizer\")\n",
    "\n",
    "TOKENIZERS = {\n",
    "    \"Xlm Roberta Tokenizer\": xlm_roberta_tokenizer,\n",
    "    \"Bert Multilingual Tokenizer\": bert_multilingual_tokenizer,\n",
    "    \"Azerbaijani Bpe Tokenizer\": azerbaijani_bpe_tokenizer,\n",
    "    \"Azerbaijani Unigram Tokenizer\": azerbaijani_unigram_tokenizer\n",
    "}\n",
    "\n",
    "print(\"All tokenizers loaded successfully!\")"
   ],
   "outputs": [
    {
     "name": "stderr",
     "output_type": "stream",
     "text": [
      "The tokenizer class you load from this checkpoint is not the same type as the class this function is called from. It may result in unexpected tokenization. \n",
      "The tokenizer class you load from this checkpoint is 'XLMRobertaTokenizer'. \n",
      "The class this function is called from is 'PreTrainedTokenizerFast'.\n",
      "The tokenizer class you load from this checkpoint is not the same type as the class this function is called from. It may result in unexpected tokenization. \n",
      "The tokenizer class you load from this checkpoint is 'BertTokenizer'. \n",
      "The class this function is called from is 'PreTrainedTokenizerFast'.\n"
     ]
    },
    {
     "name": "stdout",
     "output_type": "stream",
     "text": [
      "All tokenizers loaded successfully!\n"
     ]
    }
   ],
   "execution_count": 125
  },
  {
   "metadata": {
    "ExecuteTime": {
     "end_time": "2025-08-18T12:04:52.403416Z",
     "start_time": "2025-08-18T12:04:52.401054Z"
    }
   },
   "cell_type": "code",
   "source": [
    "from utils.config import ROOT_DIR\n",
    "\n",
    "FILE_PATH = f\"{ROOT_DIR}/data/azerbaijani_data.txt\""
   ],
   "id": "1f4924507aeb4871",
   "outputs": [],
   "execution_count": 126
  },
  {
   "metadata": {
    "ExecuteTime": {
     "end_time": "2025-08-18T12:04:52.653233Z",
     "start_time": "2025-08-18T12:04:52.650086Z"
    }
   },
   "cell_type": "code",
   "source": [
    "from random import choices\n",
    "\n",
    "def get_random_sentences(file_path: str=FILE_PATH,\n",
    "                        total_sentence_number: int=10_000,\n",
    "                         random_sentence_number: int=100):\n",
    "    sentences = []\n",
    "    with open(file_path, \"r\", encoding=\"utf-8\") as file:\n",
    "        for idx, line in enumerate(file):\n",
    "            if idx == total_sentence_number:\n",
    "                break\n",
    "            sentences.append(line)\n",
    "\n",
    "    return choices(sentences, k=random_sentence_number)"
   ],
   "id": "d9835c4ab762ab94",
   "outputs": [],
   "execution_count": 127
  },
  {
   "metadata": {
    "ExecuteTime": {
     "end_time": "2025-08-18T12:04:52.677054Z",
     "start_time": "2025-08-18T12:04:52.659190Z"
    }
   },
   "cell_type": "code",
   "source": [
    "RANDOM_SENTENCES = get_random_sentences()\n",
    "print(f\"Randomly selected sentences: {RANDOM_SENTENCES}\")"
   ],
   "id": "63c8d384c4d69fb",
   "outputs": [
    {
     "name": "stdout",
     "output_type": "stream",
     "text": [
      "Randomly selected sentences: ['Formula-1\" Qran-pri siyahısı — 1950-ci ildən FİA Dünya Çempionatına daxil olan bütün mərhələlərin siyahısı.\\n', 'Filmin üzərində işləyənlər Ssenari müəllifi: Cəmil Fərəcov Rejissor: Cəmil Fərəcov Operator: Sərdar Vəliyev Həmçinin bax Azərbaycan filmlərinin siyahısı1984-cü ilin Azərbaycan filmləri1980-ci illər Azərbaycan filmlərinin siyahısı Azərbaycan\"da dəniz səyahəti — qısametrajlı sənədli film.\\n', 'Fövqəladə hallar orqanlarında qüsursuz xidmətə görə\" Azərbaycan Respublikasının medalı döşün sol tərəfinə, Azərbaycan Respublikasının digər orden və medalları olduqda onlardan sonra taxılır.\\n', 'Open Door Policy) — 1899-cu ildə ABŞ böyük dövlətlərdən tələb etdi ki, Çindəki nüfuz dairələrində Amerika mallarının gətirilməsi və satışına şərait yaratsınlar.\\n', 'Medalın arxa tərəfində xarici və daxili çevrələrlə konturlanmış lövhənin üzərində qövs boyunca \"ZƏNGİLANIN AZAD OLUNMASINA GÖRƏ\" sözləri yazılmışdır.\\n', 'Dövlət başçısı İlham Əliyevin iştirakı ilə 2009-cu ilin may ayında təməli qoyulmuş Şəmkirçay su anbarının layihə smeta sənədləri \"Azdövsutəslayihə\" institutu və Türkiyənin \"TƏMƏLSU\" şirkəti tərəfindən birgə işlənib hazırlanmışdı.\\n', '1933-cü ilə qədər 300-ə yaxın insan bu ordenlə təltif olunub.\\n', '[2] Bu, daha inkişaf etmiş cəmiyyətlərdə bir-birinə olan asılılıqlara əsaslanan sosial birlikdir.\\n', 'Birinci dairə dəniz dalğası (Pantone 3298 °C) rəngindədir.\\n', 'Ansambl ÜİLKGİ MK-nın Fəxri fərmanı ilə təltif olundu.\\n', 'Bu isə öz növbəsində karst məşəlli suxurların aktivləşməsinə səbəb olmuşdur.Dekabrist Aleksandr Aleksandroviç Besttujev-Marlinski dirəkləri gördükdən sonra isə bu sözləri demişdir: \"Bu əsrarəngiz yaradılış qarşısında necədə müqəddəs sakitlik, ürək axır\".\\n', 'Hazırkı dövrdə 2000-ci illərdə eyni adlı mükafat Kütləvi İnformasiya Vasitələrinin Həmkarlar İttifaqı (KİVHİ) adlı qurum tərəfindən təqdim edilir.\\n', 'Festivalın aparıcıları Yana Çurikova və Andrey Malaxov olub.\\n', 'Medal paltara bərkidilmək üçün elementi olan, 37 mm x 50 mm ölçülü düzbucaqlı xara lentə halqa və ilgək vasitəsilə birləşdirilmişdir.\\n', 'Ehtiyac, aclıq, zülm qoymadı göz açam.Bu cümlələrdə həmcins mübtədalar arasında (dağlar, dərələr; ehtiyac, aclıq) vergül qoyulmuşdur.\\n', 'Təltif edilənlər \"Azərbaycan Respublikası Silahlı Qüvvələrinin 10 illiyi (1991–2001)\" yubiley medalı ilə 2002-ci il iyun ayının 26-na qədər Azərbaycan Respublikası Silahlı Qüvvələrində həqiqi hərbi xidmət keçən və döyüş hazırlığında uğurlar qazanmış zabit, gizir və miçmanlar, habelə Silahlı Qüvvələrdən ehtiyata yaxud istefaya buraxılmış Azərbaycan Respublikası Silahlı Qüvvələrinin qurulmasında və onun möhkəmlənməsində fəal iştirak edən zabitlər təltif ediliblər.\\n', 'Namizədlərdən biri, qaradərili Driss bu işə maraq göstərmir — ona işsizlik müavinətini almağa davam etmək üçün rəsmi yazılı imtina lazımdır, lakin gözlənilmədən Filip onu işə qəbul edir.\\n', 'Avstriyalı və alman hərbçilər üçün bu medal öz II dərəcəli \"Dəmir Xaç\" medallarından aşağı dərəcəli hesab edilirdi.\\n', 'Prezidentin köməkçisi Hikmət Hacıyev sosial şəbəkələrdə rəsmi məlumat olmadan həlak olanların siyahısına adların əlavə edilməsini tənqid etmişdir.\\n', 'Mərkəzdə eyni zamanda TOPİK imtahan hazırlıq kursu da mövcuddur.\\n', 'Ulduzun üzərində daxilində Azərbaycan Respublikası daxili işlər orqanlarının emblemi olan dairə təsvir edilmişdir.\\n', 'Naxçıvan Dövlət Universitetinin futbol komandası 2002-ci ildə Türkiyənin Qars Qafqaz Universitetinin komandası ilə yoldaşlıq görüşləri keçirmiş, həm Türkiyədə və həm də Naxçıvanda qalib gəlmişlər.\\n', 'Küləyin orta illik sürəti 4–6 m/san və daha yüksək olur.\\n', 'İlk altı mərasim üçün uyğunluq müddəti iki ili əhatə etmişdir.27 mart 1957-ci ildə təşkil edilən 29-cu mərasimdə Ən Yaxşı Xarici Dilli Film kateqoriyası tanıdıldı.\\n', 'Qırmızı xara lentin hər iki kənarında eni 1,5 mm zoğalı rəngli, mərkəzində bir-birindən 2 mm aralı məsafədə eni 2,5 mm olan açıq sarı rəngli 3 şaquli zolaq təsvir edilmişdir.\\n', 'Bu kompozisiyadan yuxarıda qövs boyunca lentin üzərində \"QÜSURSUZ XİDMƏTƏ GÖRƏ\" sözləri yazılmış, aşağı hissədə isə palıd yarpaqlarından çələng təsviri verilmişdir.\\n', 'Neqativlər - daimi saxlamada 12 mindən çox neqativ var.\\n', 'Bu təəccüblü deyil, çünki Lena Sütunları sahildədir nəhəng çay — Lena.\\n', 'Medalın mərkəzindən aşağı hissədə Azərbaycan Respublikasının Dövlət bayrağının rənglərinə uyğun lentin üzərində ağ minalı \"10 İL\" sözləri, medalın sol tərəfində lentdən yuxarı hissədə alt-alta qızılı rəngdə \"2005\" və \"2015\" rəqəmləri yazılmış, lentin üzərində sağa istiqamətlənən qızılı rəngdə palıd yarpaqlarının təsviri verilmişdir.Maddə 3.\\n', '1988-ci ildə xronikal-sənədli, elmi–kütləvi və tədris filmləri birliyinin bazasında yaradıldı.\\n', 'Azərbaycan Bayrağı\" ordeninin təsviri 3 fərqli formada verilsə də, ilk versiya ilə heç kəs təltif olunmamışdır.\\n', 'Həmçinin bax Nurlan nəşriyyatı Xarici keçidlər Bakı: \"Elm və təhsil\" Arxivləşdirilib 2018-05-14 at the Wayback Machine Evelina\" münaqişəsi — \"Evelina\" gəmisinin daşnak-bolşevik qüvvələri tərəfindən tərksilah edilməsi.\\n', 'Xarici və daxili çevrələrin arasında yuxarı qövs boyunca \"BAKI DÖVLƏT UNİVERSİTETİ\" sözləri, aşağı qövs boyunca \"1919–2019\" sözləri yazılmışdır.\\n', 'Ssenari müəllifi Rafael İsgəndərov, rejissor Gülnarə Lətifqızı, prodüser Mehriban Ələkbərzadə idi. Müşfiq Abbasov: 2000-ci ilin sonunda onlar tərəfindən mənə təklif gəldi, lakin mən fiziki olaraq bunu çatdıra bilməzdim.\\n', 'S.Hüseyn Əl-Daur, Tikrit yaxınlığında ələ keçirildi.\\n', 'Yaradılması Azərbaycanın Daxili İşlər Nazirliyinin Daxili Qoşunlarının xüsusi təyinatlı hərbi qulluqçulardan ibarət xüsusi təyinatlı dəstələri mövcuddur.\\n', 'İki tərəfdən konturlanmış çevrə boyunca yuxarıda \"Hərbi xidmətdə fərqlənməyə görə\" Medalın 3-cü dərəcəsi gümüşü rəngli, 2-ci dərəcəsi çevrə və onun üzərindəki sözlər istisna olmaqla — qızılı rəngli, 1-ci dərəcəsi — qızılı rəngli, qartal qanadları gümüşü, lövbər isə qara rəngdədir.\\n', '2015–2022-ci illərdə Güllü Eldar Tomarlı məclisin mətbuat katibi, sədr müavini və bədii rəhbəri olmuşdur.\\n', 'Məscidlərin köməyi ilə Abşeron kəndlərində dini etiqadları müəyyən etmək olar.\\n', 'Ən maraqlısı da odur ki, paytaxt şəhərə, iri sənaye mərkəzi olan Bakıya yaxın olmasına baxmayaraq, Qala kəndinin infrastrukturu və abidələri vahid kompleks şəklində olduğu kimi qalmaqdadır.\\n', 'Belə ki, əvvəlki qanuna əsasən, \"Qəhrəman ana\"lar yaşından asılı olmayaraq, azı 10 il iş stajı olduqda əmək pensiyası ala bilərdi.\\n', 'Murmanskın çevrəsində okeanda 150 kilometr ərazi bu təlim üçün başqa gəmilərin hərəkətinə bağlandı.\\n', 'Qırğızıstan prezidenti Almazbəy Atambayev İlham Əliyevə məktubunda qeyd etmişdir.\\n', 'Mükafatın tarixi Medalı \"Rusiya Federasiyasının dövlət mükafat sisteminin təkmilləşdirilməsi üzrə tədbirlər Haqqında\" 7 sentyabr 2010-cu il tarixli 1099 saylı \"kosmosun öyrənilməsində Xidmətlərinə Görə\" Rusiya Federasiyası Prezidentinin Fərmanı İlə təsis edilib.\\n', '1978-ci ildə BAİKB-in adı dəyişilib, Bakı Aqreqat İstehsal Birliyi (BAİB) olub.\\n', 'Əmirli Tofiq Şəmsəddin oğlu – gizir (ölümündən sonra) — 15. dekabr 2020 269.\\n', 'Hacıyevin rotası yalnız səhərə yaxın düşmən mövqeyinə çatdı, çünki bütün gecəni projektorların işığı onların irəliləməsinə mane olurdu (Ə. Əbülhəsən).\\n', 'Ümumilkdə türbə anlayışı İslam təliminə ziddir və İslam ölkələrində türbə tikintisinin çox geniş yayılması, başlıca olaraq əsgi türk gələnəklərinin bu regionun xatirə memarlığına yönəldici təsir göstərməsi ilə bağlıdır.\\n', 'Biz öz sərhədlərimizi, zəif nöqtələrimizi bilirik.\\n', 'Kəlbəcərin azad olunmasına görə\" medalı ilə təltif edilənlərin siyahısı məqaləsində Kəlbəcər rayonunun işğaldan azad edilməsi uğrunda aparılmış döyüş əməliyyatlarında iştirak etmiş və təltif edilmiş Azərbaycan Respublikası Silahlı Qüvvələrinin hərbi qulluqçuların adları yer alır.\\n', 'Xarici keçidlər nizamicinema.az — Nizaminin rəsmi saytı Tarixi və müasir - Nizami Kino Mərkəzi Nişanlı qız-oğlan\" ziyarətgahı — Şəki rayonu ərazisində ziyarətgah.\\n', 'Artizan su quyusu Qala üçün səciyyəvi olan su mənbələrindən biridir.\\n', 'Lakin Tuba-Şahi məscidindən fərqli olaraq, fasadın portalsız həlli, yeni motiv və elementlər, Mərdəkan məscidinin kəndin baş məscidi, Hacı Ramazan məscidinin isə məhəlli xarakter daşımasından və yeni əsrin tikinti texnikasından irəli gəlir.\\n', 'Klassik məsnəvi və dastanlarda olduğu kimi \"Şəhriyar\"da da eşqin tarixçəsi də, qəhrəmanın dünyaya gəlişi də qeyri-adidir.\\n', 'Mükafatları Sovet İttifaqı Mərkəzi komitəsinin mükafatı SSRİ Xalq Təsərrufatı Nailiyyətlər Sərgisinin mükafatı Ağdam Rayon Partiya Komitəsinin mükafatı Ümumittifaq Komsomolun Mərkəzi Komtəsinin mükafatı Pioner Təşkilatının Mərkəzi Komitəsinin mükafatı Həmçinin bax Qarabağ bülbülləri (film, 1977) Oğlan (film, 1984) Xarici keçidlər Şirinov E. Qarabağ bülbülləri\"nin yaradıcısı kimdir.\\n', 'Medal birbaşa Sultan və ya onun adından hər hansısa yüksək vəzifəli dövlət rəsmisi tərəfindən verilirdi.\\n', 'Medalın elementləri Medalın paltarın yaxasına bərkidilmək üçün 30 mm x 50 mm ölçüdə, 2 halqa və ilgək vasitəsilə medala birləşdirilən beşbucaqlı elementi vardır.\\n', 'Bunun əvəzinə düşünə bilərsiz ki, bu iş mənim ruhumu məhv edirsə, nə etməliyəm?\\n', 'Azərbaycan Respublikasının Prezidenti yanında Vətəndaşlara Xidmət və Sosial İnnovasiyalar üzrə Dövlət Agentliyinin 10 illiyi (2012–2022)\" yubiley medalının əsasnaməsi Azərbaycan Respublikasının 2022-ci il 20 dekabr tarixli 697-VIQD nömrəli Qanunu ilə təsdiq edilmişdir.\\n', 'Bunlardan Qırmızı Xaç Komitəsi Nobel sülh mükafatını üç dəfə əldə edib.\\n', 'Azərbaycan XMK-nın İncəsənət Şöbəsi (1920–1923) Azərbaycan Foto-Kino İdarəsi (1923–1925) Azərdövlətkino (1925) Azdövlətkino (1926–1930) Azərkino (1930–1931) Azərfilm (1932–1941) Azdövlətkinosənaye (1934–1935) Azərbaycan kinostudiyası (1936) Bakı kinostudiyası (1939–1959) \"Azərbaycanfilm\" kinostudiyası (1959-cu ildən) Filmoqrafiya Azərbaycan XMK-nın İncəsənət Şöbəsi (1920–1923) XI qırmızı ordu hissələrinin Bakıda paradı (film, 1920) (qısametrajlı sənədli film) XI qırmızı ordu hissələrinin Bakıya gəlişi (film, 1920) (qısametrajlı sənədli film) XI qırmızı ordu komandirləri dağlıların qonağıdır (film, 1920) (qısametrajlı sənədli film) 26 Bakı komissarı cənazələrinin dəfni (film, 1920) (qısametrajlı sənədli film) Bakıda şərq xalqlarının I qurultayı (film, 1920) Pyotr Meydanında iməcilik (film, 1920) Azərbaycanın şuralaşmasının birinci ildönümü (film, 1921) Azərbaycan Foto-Kino İdarəsi (1923–1925) IX beynəlxalq gənclər gününün bayram edilməsi (film, 1923) (qısametrajlı sənədli film) Atəşpərəstlər məbədi (film, 1925) Azərbaycan Mədən Fəhlələri Həmkarlar İttifaqının IX qurultayı (film, 1925) Azərbaycan Sovet Şura Cümhuriyyətinin üçüncü ildönümü (film, 1923) Azərbaycana səyahət (film, 1924) Azərbaycanda çəyirtkə ilə mübarizə (film, 1923) Azərbaycanda ipəkçilik sənayesi (film, 1923) Azərbaycanda suvarmanın və pambıqçılığın bərpa edilməsi (film, 1923) Bakı SSRİ-nin incisidir (film, 1925) Bakıda tramvay yolunun salınması və yolun açılışı (film, 1924) Bayquş (film, 1924) Bibiheybətdə qaz fontanı yanğını (film, 1925) Culfa-Bakı yolu (film, 1924) Dağıstanda \"Oktyabr İnqilabı\" kanalı (film, 1923) Dördüncü Bakı yarmarkası (film, 1925) Əvəz-əvəzə (film, 1925) Fəhlə məişəti (film, 1924) Frunzenin iştirakilə Qızıl Ordunun manevri (film, 1925) Funtikovun mühakiməsi (film, 1925) Hərbi dənizçilərin həyatı (film, 1923) Xalq Torpaq Komissarlığı (film, 1924) Xəzər gəmiçiliyi (film, 1924) İngiltərə Parlamenti nümayəndə heyəti Bakıda (film, 1925) Qız qalası əfsanəsi (film, 1923) (tammetrajlı bədii film) M. İ. Kalininin Bakıya səfəri (film, 1923) Mədənçi-neftçi istirahətdə və müalicədə (film, 1924) Nəriman Nərimanovun dəfni (film, 1925) Rəhbərlərin Bakıya səfəri (film, 1925) Sergey Yeseninin Bakıya səfəri (film, 1925) Suraxanı neft mədənlərində yanğın (film, 1923) Suraxanıda qaz fontanı (film, 1925) Şaxsey-vaxsey (film, 1925) Trotskinin Bakıya səfəri (film, 1924) Azərdövlətkino (1925) Azərbaycan balığı (film, 1925) Azdövlətkino (1926–1930) 1-ci Türkoloji Qurultay (film, 1926) Azərbaycan Sovetlərinin V qurultayı (film, 1927) Azərbaycanda kənd təsərrüfatı (film, 1926) Azərbaycanda kinopavilyonun açılışı (film, 1928) B.\\n', 'Qrupun üzvləri Novruz Novruzlu (xanəndə və dəf), Həlimət Sultan (səs və bədii qiraət), Fəxrəddin Salim (saz və ud), Cavad İsmayıl (ney) və İffət Əsgərovdur (kamança).Repertuar etibarilə qrup əsasən — ilahilər, türkülər və bədii-musiqili kompozisiyalardan ibarətdir.\\n', 'Elə həmin gün B. Avakyan \"Astoriya\" mehmanxanasında Hərbi İnqilabi Komitə adından daşnaklara silah payladı.\\n', 'Müsəlman adətinə görə su başqasının bədəninə dəydikdə təmiz su sayılmırmış.\\n', 'Reporters) olaraq adlandırılan günlük özətdə topladılar.\\n', 'Səkkizguşəli ulduzun yuxarı hissəsində qövs boyunca \"ŞÜCAƏTƏ GÖRƏ\" sözləri yazılmışdır.\\n', 'Corc Cukor 1975-ci ildə \"Mavi Quş\" adlı filmini burada çəkmiş, Elizabet Teylor bu filmdə İşıqlar şahzadəsi rolunu oynamışdır.\\n', '1997–1998-ci illər arasında ABŞ-də 600,8 milyon ABŞ dolları və 1 dollar olaraq hesablandı.\\n', 'Cumaxatan\" deyilən yerdə sandıq və üzərində yorğan-döşək qoyurlarmış.\\n', 'Lentin sol yuxarı hissəsində üst-üstə 1992 və 2012 rəqəmləri yazılmışdır.\\n', 'Assosiasiya Azərbaycanın xarici ölkələrlə dostluq və mədəni əməkdaşlıqın möhkəmlənməsinə də kömək etməyə çalışır.\\n', 'Bir müddətdən sonra həmin tacirin oğlu dünyaya gəlir.\\n', 'Cəmiyyətin balansında 17265 km uzunluğunda su, 3050 km uzunluğunda kanalizasiya və yağış suları xətləri vardır.\\n', 'Açılış mərasimində akademik İsa Həbibbəyli Cənubi Koreya Respublikasının Azərbayjandakı fövqəladə və səlahiyyətli səfiri Li Ji Han, Cənubi Koreyanın Kimçonq Universitetinin rektoru, xanım Sunq Aj Kanq, Beynəlxalq əlaqələr şöbəsinin müdiri Hee Cun Lee və köməkçisi David K. H. Leenin iştirak etmişdir.\\n', 'Muğam aləmi\" Beynəlxalq Muğam Festivalı və ya \"Muğam Dünyası\" Beynəlxalq musiqi festivalı — Azərbaycanda bir neçə ildən bir keçirilən beynəlxalq muğam festivalı.\\n', 'Təltif edilən şəxslər Azərbaycan Respublikasının \"Qarabağ\" ordeni ilə Azərbaycan Respublikasının işğal edilmiş ərazilərinin azad olunmasında, düşmənin canlı qüvvəsinin və döyüş texnikasının məhv edilməsində igidlik və mərdlik nümunəsi göstərmiş, hərbi əməliyyatlar zamanı həyat və sağlamlıq üçün real təhlükə şəraitində xidməti borcu və hərbi qulluq vəzifəsini yerinə yetirərkən mərdlik və qətiyyət nümayiş etdirmiş, Azərbaycan Respublikasının dövlət sərhədinin bərpa və mühafizə edilməsində xüsusi xidmət göstərmiş Azərbaycan Respublikası Silahlı Qüvvələrinin hərbi qulluqçuları, habelə ərazi bütövlüyünün təmin edilməsi sahəsində xüsusi xidmətlərinə görə digər şəxslər təltif edilir.Maddə 2.\\n', 'Müsabiqəyə Azərbaycanla yanaşı, İran, İsrail, Özbəkistan və Türkiyədən ümumilikdə 22 ifaçı, o cümlədən ifaçılıq kateqoriyası üzrə 12, xanəndəlik kateqoriyası üzrə isə 10 ifaçı qatılıb.\\n', 'Şıxlar məhəllə məscidi Qala kəndinin yeganə nefli məscididir ki, bu da XX əsrin tikinti texnikasının inkişafının təcəssümüdür.\\n', 'Onun qurucuları arasında Əsədulla Qafarzadə, Bəhram Ağayev, Ağababa Yusifzadə və, sonradan Seyid Cəfər Pişəvəri kimi tarixə keçən, Cavadzadə Xalxali vardılar.\\n', 'Pedoqoji fakültə İdarəetmə fakültəsi İqtisadiyyat fakültəsi Xarici dillər fakültəsi Maddi-texniki bazası \"Naxçıvan\" Universitetinin iki tədris korpusu vardır.\\n', 'Uşaqlar və böyüklər üçün Britaniya, İtaliya, Almaniya və İsrail istehsalı olan 60-dan artıq oyun aparatları, 6D attraksionu, \"LaserMaxx\", yarış avtomobilləri üçün iki trek, motosikllər üçün yol, buz meydançası, voleybol, basketbol və futbol üçün oyun meydançaları, fitnes-mərkəz, istər Azərbaycan, istərsə də dünya mətbəxinin xörəklərini təklif edən qəhvəxana və restoranlar, suvenir mağazası fəaliyyət göstərir.\\n', 'Bütün elementlər və yazılar relyefli olaraq qabarıqdır.Maddə 3.\\n', 'Çevrənin mərkəzində Azərbaycan Respublikası Silahlı Qüvvələrinin emblemi həkk edilmişdir.\\n', 'Rusiya Federasiyası Prezidentinin 7 sentyabr 2010-cu il tarixli 1099 saylı \"Rusiya Federasiyasının dövlət mükafat sisteminin təkmilləşdirilməsi üzrə tədbirlər Haqqında\"fərmanı ilə nizamnamə və ordenin təsviri təsis edilmişdir.2013-cü ilin yanvarında və 2015-ci ilin aprelində ordenin nizamnaməsinə dəyişikliklər edilmişdi.\\n', 'Məscid kəndin baş arterial küçəsi – Qala küçəsinin sağ \"qolunda\", alçaq, dublalı evlərlə təzadda, həcm-məkan həlli ilə uzaq məsafədən seçilir.\\n', 'İsmayıl Calallı (Sadıqov), \"İnformatika terminlərinin izahlı lüğəti\", 2017, \"Bakı\" nəşriyyatı, 996 s. Rəna Qasımova, \"İnternetdə domen problemləri və həlli yolları\", 2012, Bakı: \"İnformasiya Texnologiyaları\" nəşriyyatı, 164 s., ISBN 978-9952-434-42-2 Xarici keçidlər .az üçün Iana domen məlumatı .biz — biznes-strukturlar üçün yuxarı səviyyəli ümumi domendir.\\n', 'Kəmərin möhkəmliyini yoxlayan zaman o qırılır və Estraqonun şalvarı əynindən düşür.\\n', 'Akademiyanın mükafatlı film rejissoru və mərasimin keçmiş prodüseri olan Uilyam Friedkin, 2009-cu ildə Nyu-Yorkda keçirilmiş bir konfransda bu barədə \"bu, hər hansı bir sənayenin özü üçün hazırladığı ən böyük təşviqi sxemi\" demişdir.\\n', 'Purpur sözü\" ingilis dilindən Azərbaycan dilinə \"al qırmızı\" kimi tərcümə olunsa da, konkret halda bu sözü \"al bənövşəyi\" kimi başa düşmək lazımdır.\\n', 'Azərbaycan Xalq Cümhuriyyətinin 100 illiyi (1918–2018)\" yubiley medalı — Azərbaycan Respublikasının dövlət təltifi.\\n', 'Xara lentin yuxarı hissəsinə 40 mm x 5 mm ölçülü gümüşü təbəqə bərkidilir; paltara bərkidilmək üçün elementi olan, göy çalarlı, ölçüsü 37 mm x 10 mm olan 2 ədəd qəlib.\\n', 'İldə 4 dəfə Azərbaycan, ingilis və rus dillərində çap olunur.\\n', 'Şor gölü: Kəndin ərazisində əvvəllər 2 göl var idi. Göl orta əsrlərdə kəndin həyatında xüsusi rol oynamışdır.\\n', 'Medalın elementləri Medal paltarın yaxasına bərkidilmək üçün elementi olan, 37 mm x 50 mm ölçülü beşbucaqlı xara lentə iki halqa və ilgək vasitəsilə birləşdirilir.\\n', 'O, layihənin eskizini Skandinaviya ölkələrində məzuniyyətdə olarkən əldə edir.\\n', 'Paltara bərkidilmək üçün medalın elementi olan xara lentdən üz çəkilmiş 27 mm x 9 mm ölçülü qəlib əlavə edilir.\\n', 'Təltif edilən şəxslər \"Azərbaycan Respublikası Dövlət Gömrük Komitəsinin 30 illiyi (1992–2022)\" Azərbaycan Respublikasının yubiley medalı ilə Azərbaycan Respublikasının gömrük orqanlarında vəzifələrini nümunəvi yerinə yetirən, xidmətdə yüksək nəticələr əldə edən gömrük orqanlarının əməkdaşları, habelə Azərbaycan Respublikasının gömrük işinin təşkilində, təkmilləşdirilməsində və möhkəmləndirilməsində xüsusi xidmətləri olan şəxslər təltif edilirlər.Maddə 2.\\n', 'Azərbaycan Respublikası Silahlı Qüvvələrinin 95 illiyi (1918–2013)\" yubiley medalı — Azərbaycan Respublikasının dövlət təltifi.\\n', 'Qəzetin 1972-ci il 7 may tarixli 54-cü (2500) nömrəsi qəzetin 2500-cü – yubiley nömrəsinə həsr olunub.\\n', 'Burada göstərilir ki, Xəzər neftçiləri ilə Vyetnam neftçilərinin əməkdaşlığı ildən ilə möhkəmlənir.\\n']\n"
     ]
    }
   ],
   "execution_count": 128
  },
  {
   "metadata": {
    "ExecuteTime": {
     "end_time": "2025-08-18T12:04:52.802104Z",
     "start_time": "2025-08-18T12:04:52.799027Z"
    }
   },
   "cell_type": "code",
   "source": [
    "from time import perf_counter\n",
    "from typing import Dict, List\n",
    "\n",
    "def get_tokenizer_performance(model,\n",
    "                            sentences: List[str]) -> Dict[str, int | float]:\n",
    "    token_count, start = 0, perf_counter()\n",
    "    for sentence in sentences:\n",
    "        tokens = model.tokenize(sentence)\n",
    "        token_count += len(tokens)\n",
    "\n",
    "    perform_time = perf_counter() - start\n",
    "    return {\n",
    "        \"token_count\": token_count,\n",
    "        \"perform_time\": perform_time\n",
    "    }"
   ],
   "id": "b1777587c498029",
   "outputs": [],
   "execution_count": 129
  },
  {
   "metadata": {
    "ExecuteTime": {
     "end_time": "2025-08-18T12:05:02.845186Z",
     "start_time": "2025-08-18T12:05:02.800728Z"
    }
   },
   "cell_type": "code",
   "source": [
    "print(f\"Tokenizers performance with {len(RANDOM_SENTENCES)} sentences:\")\n",
    "\n",
    "for name, model in TOKENIZERS.items():\n",
    "    tokenizer_performance = get_tokenizer_performance(model, RANDOM_SENTENCES)\n",
    "    print(f\"{name} tokenizer performance: {tokenizer_performance}\")"
   ],
   "id": "d46a2dfc427174fd",
   "outputs": [
    {
     "name": "stdout",
     "output_type": "stream",
     "text": [
      "Tokenizers performance with 100 sentences:\n",
      "Xlm Roberta Tokenizer tokenizer performance: {'token_count': 4613, 'perform_time': 0.012914700026158243}\n",
      "Bert Multilingual Tokenizer tokenizer performance: {'token_count': 6030, 'perform_time': 0.0117459999746643}\n",
      "Azerbaijani Bpe Tokenizer tokenizer performance: {'token_count': 4189, 'perform_time': 0.007832000032067299}\n",
      "Azerbaijani Unigram Tokenizer tokenizer performance: {'token_count': 4129, 'perform_time': 0.007791400013957173}\n"
     ]
    }
   ],
   "execution_count": 131
  }
 ],
 "metadata": {
  "kernelspec": {
   "display_name": "Python 3",
   "language": "python",
   "name": "python3"
  },
  "language_info": {
   "codemirror_mode": {
    "name": "ipython",
    "version": 2
   },
   "file_extension": ".py",
   "mimetype": "text/x-python",
   "name": "python",
   "nbconvert_exporter": "python",
   "pygments_lexer": "ipython2",
   "version": "2.7.6"
  }
 },
 "nbformat": 4,
 "nbformat_minor": 5
}
