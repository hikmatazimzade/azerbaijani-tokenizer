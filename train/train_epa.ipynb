{
 "cells": [
  {
   "cell_type": "code",
   "id": "df35c232",
   "metadata": {
    "vscode": {
     "languageId": "plaintext"
    },
    "ExecuteTime": {
     "end_time": "2025-08-14T20:01:56.428157Z",
     "start_time": "2025-08-14T20:01:55.665585Z"
    }
   },
   "source": [
    "import os\n",
    "\n",
    "import sentencepiece as spm\n",
    "\n",
    "from utils.clean import get_azerbaijani_dataset\n",
    "from utils.config import ROOT_DIR"
   ],
   "outputs": [
    {
     "name": "stderr",
     "output_type": "stream",
     "text": [
      "[nltk_data] Downloading package punkt_tab to\n",
      "[nltk_data]     C:\\Users\\hikme\\AppData\\Roaming\\nltk_data...\n",
      "[nltk_data]   Package punkt_tab is already up-to-date!\n"
     ]
    }
   ],
   "execution_count": 2
  },
  {
   "metadata": {
    "ExecuteTime": {
     "end_time": "2025-08-14T20:01:56.435733Z",
     "start_time": "2025-08-14T20:01:56.432553Z"
    }
   },
   "cell_type": "code",
   "source": [
    "TOKENIZER_PATH = f\"{ROOT_DIR}/tokenizer\"\n",
    "\n",
    "os.makedirs(TOKENIZER_PATH, exist_ok=True)"
   ],
   "id": "71a09e5498f5e7d7",
   "outputs": [],
   "execution_count": 3
  },
  {
   "metadata": {
    "ExecuteTime": {
     "end_time": "2025-08-14T21:06:46.440908Z",
     "start_time": "2025-08-14T20:01:58.890050Z"
    }
   },
   "cell_type": "code",
   "source": [
    "DATASET_NAMES = (\"LocalDoc/AzTC\", \"allmalab/DOLLMA\")\n",
    "\n",
    "get_azerbaijani_dataset(DATASET_NAMES)"
   ],
   "id": "451657769b213c0f",
   "outputs": [
    {
     "name": "stderr",
     "output_type": "stream",
     "text": [
      "\u001B[97m2025-08-15 00:01:58,892 - utils.clean - INFO - Pruned content of data/azerbaijani_data.txt\u001B[0m\n",
      "\u001B[97m2025-08-15 00:01:58,894 - utils.clean - INFO - Pruned content of data/LocalDoc_AzTC.txt\u001B[0m\n",
      "\u001B[97m2025-08-15 00:01:58,895 - utils.clean - INFO - Downloading LocalDoc/AzTC\u001B[0m\n",
      "\u001B[97m2025-08-15 00:02:29,280 - utils.clean - INFO -   Downloading config: default\u001B[0m\n",
      "Downloading data: 100%|██████████| 16/16 [00:00<00:00, 57.05files/s]\n",
      "Generating train split: 100%|██████████| 51477480/51477480 [00:27<00:00, 1849254.03 examples/s]\n",
      "\u001B[97m2025-08-15 00:16:45,851 - utils.clean - INFO - Successfully wrote text data to data/LocalDoc_AzTC.txt\u001B[0m\n",
      "\u001B[97m2025-08-15 00:16:45,863 - utils.clean - INFO - Pruned content of data/allmalab_DOLLMA.txt\u001B[0m\n",
      "\u001B[97m2025-08-15 00:16:45,864 - utils.clean - INFO - Downloading allmalab/DOLLMA\u001B[0m\n",
      "\u001B[97m2025-08-15 00:17:00,847 - utils.clean - INFO -   Downloading config: anl-news\u001B[0m\n",
      "Generating train split: 100%|██████████| 236443/236443 [00:03<00:00, 77962.27 examples/s] \n",
      "\u001B[97m2025-08-15 00:17:21,050 - utils.clean - INFO -   Downloading config: azwiki\u001B[0m\n",
      "Generating train split: 100%|██████████| 129433/129433 [00:00<00:00, 176969.90 examples/s]\n",
      "\u001B[97m2025-08-15 00:17:36,511 - utils.clean - INFO -   Downloading config: bhos\u001B[0m\n",
      "Generating train split: 100%|██████████| 488390/488390 [00:01<00:00, 342774.00 examples/s]\n",
      "\u001B[97m2025-08-15 00:18:06,811 - utils.clean - INFO -   Downloading config: elite-blogs\u001B[0m\n",
      "Generating train split: 100%|██████████| 755/755 [00:00<00:00, 33909.06 examples/s]\n",
      "\u001B[97m2025-08-15 00:18:09,816 - utils.clean - INFO -   Downloading config: elite-books\u001B[0m\n",
      "Generating train split: 100%|██████████| 104/104 [00:00<00:00, 874.03 examples/s]\n",
      "\u001B[97m2025-08-15 00:18:12,683 - utils.clean - INFO -   Downloading config: eqanun\u001B[0m\n",
      "Generating train split: 100%|██████████| 53656/53656 [00:00<00:00, 79578.07 examples/s]\n",
      "\u001B[97m2025-08-15 00:18:19,665 - utils.clean - INFO -   Downloading config: mediocore-books\u001B[0m\n",
      "Generating train split: 100%|██████████| 7807263/7807263 [00:20<00:00, 390244.39 examples/s] \n",
      "\u001B[97m2025-08-15 00:22:33,145 - utils.clean - INFO -   Downloading config: translated-enwiki\u001B[0m\n",
      "Generating train split: 100%|██████████| 280465/280465 [00:03<00:00, 81257.93 examples/s]\n",
      "\u001B[97m2025-08-15 00:22:55,178 - utils.clean - INFO - Successfully wrote text data to data/allmalab_DOLLMA.txt\u001B[0m\n",
      "\u001B[97m2025-08-15 00:22:55,194 - utils.clean - INFO - Dataset cleaning started...\u001B[0m\n",
      "\u001B[97m2025-08-15 00:23:11,975 - utils.clean - INFO - 979637 sentences split in 15.797904399994877 seconds\u001B[0m\n",
      "\u001B[97m2025-08-15 00:23:26,075 - utils.clean - INFO - Successfully written data to data/azerbaijani_data.txt\u001B[0m\n",
      "\u001B[97m2025-08-15 00:23:42,327 - utils.clean - INFO - 978769 sentences split in 15.173869600010221 seconds\u001B[0m\n",
      "\u001B[97m2025-08-15 00:23:55,994 - utils.clean - INFO - Successfully written data to data/azerbaijani_data.txt\u001B[0m\n",
      "\u001B[97m2025-08-15 00:24:12,592 - utils.clean - INFO - 976916 sentences split in 15.559108000001288 seconds\u001B[0m\n",
      "\u001B[97m2025-08-15 00:24:26,471 - utils.clean - INFO - Successfully written data to data/azerbaijani_data.txt\u001B[0m\n",
      "\u001B[97m2025-08-15 00:24:42,498 - utils.clean - INFO - 976397 sentences split in 15.012498800002504 seconds\u001B[0m\n",
      "\u001B[97m2025-08-15 00:24:56,001 - utils.clean - INFO - Successfully written data to data/azerbaijani_data.txt\u001B[0m\n",
      "\u001B[97m2025-08-15 00:25:13,664 - utils.clean - INFO - 975926 sentences split in 16.558485000001383 seconds\u001B[0m\n",
      "\u001B[97m2025-08-15 00:25:25,678 - utils.clean - INFO - Successfully written data to data/azerbaijani_data.txt\u001B[0m\n",
      "\u001B[97m2025-08-15 00:25:42,158 - utils.clean - INFO - 990239 sentences split in 15.238049000006868 seconds\u001B[0m\n",
      "\u001B[97m2025-08-15 00:25:52,776 - utils.clean - INFO - Successfully written data to data/azerbaijani_data.txt\u001B[0m\n",
      "\u001B[97m2025-08-15 00:26:09,198 - utils.clean - INFO - 994971 sentences split in 15.312647699989611 seconds\u001B[0m\n",
      "\u001B[97m2025-08-15 00:26:22,451 - utils.clean - INFO - Successfully written data to data/azerbaijani_data.txt\u001B[0m\n",
      "\u001B[97m2025-08-15 00:26:38,304 - utils.clean - INFO - 992786 sentences split in 14.67460499999288 seconds\u001B[0m\n",
      "\u001B[97m2025-08-15 00:26:48,605 - utils.clean - INFO - Successfully written data to data/azerbaijani_data.txt\u001B[0m\n",
      "\u001B[97m2025-08-15 00:27:04,957 - utils.clean - INFO - 989183 sentences split in 15.245106799993664 seconds\u001B[0m\n",
      "\u001B[97m2025-08-15 00:27:15,563 - utils.clean - INFO - Successfully written data to data/azerbaijani_data.txt\u001B[0m\n",
      "\u001B[97m2025-08-15 00:27:31,432 - utils.clean - INFO - 986211 sentences split in 14.71328860000358 seconds\u001B[0m\n",
      "\u001B[97m2025-08-15 00:27:41,788 - utils.clean - INFO - Successfully written data to data/azerbaijani_data.txt\u001B[0m\n",
      "\u001B[97m2025-08-15 00:27:57,699 - utils.clean - INFO - 989826 sentences split in 14.83749330000137 seconds\u001B[0m\n",
      "\u001B[97m2025-08-15 00:28:07,713 - utils.clean - INFO - Successfully written data to data/azerbaijani_data.txt\u001B[0m\n",
      "\u001B[97m2025-08-15 00:28:23,391 - utils.clean - INFO - 990012 sentences split in 14.607767599998624 seconds\u001B[0m\n",
      "\u001B[97m2025-08-15 00:28:33,373 - utils.clean - INFO - Successfully written data to data/azerbaijani_data.txt\u001B[0m\n",
      "\u001B[97m2025-08-15 00:28:49,025 - utils.clean - INFO - 987220 sentences split in 14.571121000000858 seconds\u001B[0m\n",
      "\u001B[97m2025-08-15 00:28:59,147 - utils.clean - INFO - Successfully written data to data/azerbaijani_data.txt\u001B[0m\n",
      "\u001B[97m2025-08-15 00:29:14,907 - utils.clean - INFO - 986388 sentences split in 14.61374440000509 seconds\u001B[0m\n",
      "\u001B[97m2025-08-15 00:29:25,565 - utils.clean - INFO - Successfully written data to data/azerbaijani_data.txt\u001B[0m\n",
      "\u001B[97m2025-08-15 00:29:41,680 - utils.clean - INFO - 984776 sentences split in 14.895988000003854 seconds\u001B[0m\n",
      "\u001B[97m2025-08-15 00:29:52,489 - utils.clean - INFO - Successfully written data to data/azerbaijani_data.txt\u001B[0m\n",
      "\u001B[97m2025-08-15 00:30:08,157 - utils.clean - INFO - 982306 sentences split in 14.522949399994104 seconds\u001B[0m\n",
      "\u001B[97m2025-08-15 00:30:19,343 - utils.clean - INFO - Successfully written data to data/azerbaijani_data.txt\u001B[0m\n",
      "\u001B[97m2025-08-15 00:30:35,237 - utils.clean - INFO - 982104 sentences split in 14.673270400002366 seconds\u001B[0m\n",
      "\u001B[97m2025-08-15 00:30:46,097 - utils.clean - INFO - Successfully written data to data/azerbaijani_data.txt\u001B[0m\n",
      "\u001B[97m2025-08-15 00:31:02,596 - utils.clean - INFO - 999912 sentences split in 15.299351299996488 seconds\u001B[0m\n",
      "\u001B[97m2025-08-15 00:31:13,782 - utils.clean - INFO - Successfully written data to data/azerbaijani_data.txt\u001B[0m\n",
      "\u001B[97m2025-08-15 00:31:30,554 - utils.clean - INFO - 999934 sentences split in 15.53605319999042 seconds\u001B[0m\n",
      "\u001B[97m2025-08-15 00:31:40,776 - utils.clean - INFO - Successfully written data to data/azerbaijani_data.txt\u001B[0m\n",
      "\u001B[97m2025-08-15 00:31:57,160 - utils.clean - INFO - 999973 sentences split in 15.003091899998253 seconds\u001B[0m\n",
      "\u001B[97m2025-08-15 00:32:09,198 - utils.clean - INFO - Successfully written data to data/azerbaijani_data.txt\u001B[0m\n",
      "\u001B[97m2025-08-15 00:32:25,726 - utils.clean - INFO - 999982 sentences split in 15.175576100009494 seconds\u001B[0m\n",
      "\u001B[97m2025-08-15 00:32:37,924 - utils.clean - INFO - Successfully written data to data/azerbaijani_data.txt\u001B[0m\n",
      "\u001B[97m2025-08-15 00:32:54,198 - utils.clean - INFO - 999934 sentences split in 15.03964870001073 seconds\u001B[0m\n",
      "\u001B[97m2025-08-15 00:33:05,472 - utils.clean - INFO - Successfully written data to data/azerbaijani_data.txt\u001B[0m\n",
      "\u001B[97m2025-08-15 00:33:21,551 - utils.clean - INFO - 999930 sentences split in 14.954765999995288 seconds\u001B[0m\n",
      "\u001B[97m2025-08-15 00:33:31,714 - utils.clean - INFO - Successfully written data to data/azerbaijani_data.txt\u001B[0m\n",
      "\u001B[97m2025-08-15 00:33:47,640 - utils.clean - INFO - 999974 sentences split in 14.813785899998038 seconds\u001B[0m\n",
      "\u001B[97m2025-08-15 00:33:58,496 - utils.clean - INFO - Successfully written data to data/azerbaijani_data.txt\u001B[0m\n",
      "\u001B[97m2025-08-15 00:34:14,991 - utils.clean - INFO - 999986 sentences split in 15.294827299992903 seconds\u001B[0m\n",
      "\u001B[97m2025-08-15 00:34:27,040 - utils.clean - INFO - Successfully written data to data/azerbaijani_data.txt\u001B[0m\n",
      "\u001B[97m2025-08-15 00:34:43,439 - utils.clean - INFO - 999983 sentences split in 15.117652100001578 seconds\u001B[0m\n",
      "\u001B[97m2025-08-15 00:34:55,292 - utils.clean - INFO - Successfully written data to data/azerbaijani_data.txt\u001B[0m\n",
      "\u001B[97m2025-08-15 00:35:12,314 - utils.clean - INFO - 998616 sentences split in 15.913860700005898 seconds\u001B[0m\n",
      "\u001B[97m2025-08-15 00:35:23,651 - utils.clean - INFO - Successfully written data to data/azerbaijani_data.txt\u001B[0m\n",
      "\u001B[97m2025-08-15 00:35:39,557 - utils.clean - INFO - 996170 sentences split in 14.845739800002775 seconds\u001B[0m\n",
      "\u001B[97m2025-08-15 00:35:49,744 - utils.clean - INFO - Successfully written data to data/azerbaijani_data.txt\u001B[0m\n",
      "\u001B[97m2025-08-15 00:36:05,625 - utils.clean - INFO - 997197 sentences split in 14.814718299996457 seconds\u001B[0m\n",
      "\u001B[97m2025-08-15 00:36:16,551 - utils.clean - INFO - Successfully written data to data/azerbaijani_data.txt\u001B[0m\n",
      "\u001B[97m2025-08-15 00:36:32,312 - utils.clean - INFO - 996370 sentences split in 14.673833199994988 seconds\u001B[0m\n",
      "\u001B[97m2025-08-15 00:36:43,374 - utils.clean - INFO - Successfully written data to data/azerbaijani_data.txt\u001B[0m\n",
      "\u001B[97m2025-08-15 00:36:59,145 - utils.clean - INFO - 996781 sentences split in 14.701856500003487 seconds\u001B[0m\n",
      "\u001B[97m2025-08-15 00:37:09,778 - utils.clean - INFO - Successfully written data to data/azerbaijani_data.txt\u001B[0m\n",
      "\u001B[97m2025-08-15 00:37:25,054 - utils.clean - INFO - 996757 sentences split in 14.391181400002097 seconds\u001B[0m\n",
      "\u001B[97m2025-08-15 00:37:32,863 - utils.clean - INFO - Successfully written data to data/azerbaijani_data.txt\u001B[0m\n",
      "\u001B[97m2025-08-15 00:37:47,638 - utils.clean - INFO - 945691 sentences split in 13.876909900005558 seconds\u001B[0m\n",
      "\u001B[97m2025-08-15 00:37:56,691 - utils.clean - INFO - Successfully written data to data/azerbaijani_data.txt\u001B[0m\n",
      "\u001B[97m2025-08-15 00:38:10,616 - utils.clean - INFO - 852443 sentences split in 12.801314099997398 seconds\u001B[0m\n",
      "\u001B[97m2025-08-15 00:38:22,066 - utils.clean - INFO - Successfully written data to data/azerbaijani_data.txt\u001B[0m\n",
      "\u001B[97m2025-08-15 00:38:34,890 - utils.clean - INFO - 756366 sentences split in 11.480060699992464 seconds\u001B[0m\n",
      "\u001B[97m2025-08-15 00:38:47,350 - utils.clean - INFO - Successfully written data to data/azerbaijani_data.txt\u001B[0m\n",
      "\u001B[97m2025-08-15 00:39:02,125 - utils.clean - INFO - 929193 sentences split in 13.606138999995892 seconds\u001B[0m\n",
      "\u001B[97m2025-08-15 00:39:13,397 - utils.clean - INFO - Successfully written data to data/azerbaijani_data.txt\u001B[0m\n",
      "\u001B[97m2025-08-15 00:39:29,849 - utils.clean - INFO - 995649 sentences split in 15.225478200009093 seconds\u001B[0m\n",
      "\u001B[97m2025-08-15 00:39:42,956 - utils.clean - INFO - Successfully written data to data/azerbaijani_data.txt\u001B[0m\n",
      "\u001B[97m2025-08-15 00:39:59,479 - utils.clean - INFO - 993176 sentences split in 15.15687120000075 seconds\u001B[0m\n",
      "\u001B[97m2025-08-15 00:40:14,598 - utils.clean - INFO - Successfully written data to data/azerbaijani_data.txt\u001B[0m\n",
      "\u001B[97m2025-08-15 00:40:30,626 - utils.clean - INFO - 999058 sentences split in 14.867918999996618 seconds\u001B[0m\n",
      "\u001B[97m2025-08-15 00:40:42,354 - utils.clean - INFO - Successfully written data to data/azerbaijani_data.txt\u001B[0m\n",
      "\u001B[97m2025-08-15 00:40:57,974 - utils.clean - INFO - 999048 sentences split in 14.50920080000651 seconds\u001B[0m\n",
      "\u001B[97m2025-08-15 00:41:10,174 - utils.clean - INFO - Successfully written data to data/azerbaijani_data.txt\u001B[0m\n",
      "\u001B[97m2025-08-15 00:41:25,971 - utils.clean - INFO - 999436 sentences split in 14.6694853999943 seconds\u001B[0m\n",
      "\u001B[97m2025-08-15 00:41:37,215 - utils.clean - INFO - Successfully written data to data/azerbaijani_data.txt\u001B[0m\n",
      "\u001B[97m2025-08-15 00:41:52,803 - utils.clean - INFO - 998677 sentences split in 14.559545000010985 seconds\u001B[0m\n",
      "\u001B[97m2025-08-15 00:42:03,753 - utils.clean - INFO - Successfully written data to data/azerbaijani_data.txt\u001B[0m\n",
      "\u001B[97m2025-08-15 00:42:19,427 - utils.clean - INFO - 995534 sentences split in 14.723379499992006 seconds\u001B[0m\n",
      "\u001B[97m2025-08-15 00:42:29,297 - utils.clean - INFO - Successfully written data to data/azerbaijani_data.txt\u001B[0m\n",
      "\u001B[97m2025-08-15 00:42:44,583 - utils.clean - INFO - 994073 sentences split in 14.409711200001766 seconds\u001B[0m\n",
      "\u001B[97m2025-08-15 00:42:53,887 - utils.clean - INFO - Successfully written data to data/azerbaijani_data.txt\u001B[0m\n",
      "\u001B[97m2025-08-15 00:43:09,196 - utils.clean - INFO - 995710 sentences split in 14.3493707000016 seconds\u001B[0m\n",
      "\u001B[97m2025-08-15 00:43:18,999 - utils.clean - INFO - Successfully written data to data/azerbaijani_data.txt\u001B[0m\n",
      "\u001B[97m2025-08-15 00:43:34,278 - utils.clean - INFO - 995260 sentences split in 14.273560099987662 seconds\u001B[0m\n",
      "\u001B[97m2025-08-15 00:43:44,195 - utils.clean - INFO - Successfully written data to data/azerbaijani_data.txt\u001B[0m\n",
      "\u001B[97m2025-08-15 00:43:59,674 - utils.clean - INFO - 994896 sentences split in 14.410235899995314 seconds\u001B[0m\n",
      "\u001B[97m2025-08-15 00:44:10,302 - utils.clean - INFO - Successfully written data to data/azerbaijani_data.txt\u001B[0m\n",
      "\u001B[97m2025-08-15 00:44:25,765 - utils.clean - INFO - 993496 sentences split in 14.410767900000792 seconds\u001B[0m\n",
      "\u001B[97m2025-08-15 00:44:36,324 - utils.clean - INFO - Successfully written data to data/azerbaijani_data.txt\u001B[0m\n",
      "\u001B[97m2025-08-15 00:44:52,198 - utils.clean - INFO - 999079 sentences split in 14.744989700004226 seconds\u001B[0m\n",
      "\u001B[97m2025-08-15 00:45:02,876 - utils.clean - INFO - Successfully written data to data/azerbaijani_data.txt\u001B[0m\n",
      "\u001B[97m2025-08-15 00:45:19,149 - utils.clean - INFO - 993657 sentences split in 15.075484200002393 seconds\u001B[0m\n",
      "\u001B[97m2025-08-15 00:45:29,862 - utils.clean - INFO - Successfully written data to data/azerbaijani_data.txt\u001B[0m\n",
      "\u001B[97m2025-08-15 00:45:45,559 - utils.clean - INFO - 990463 sentences split in 14.473705600001267 seconds\u001B[0m\n",
      "\u001B[97m2025-08-15 00:45:56,419 - utils.clean - INFO - Successfully written data to data/azerbaijani_data.txt\u001B[0m\n",
      "\u001B[97m2025-08-15 00:46:07,569 - utils.clean - INFO - 657769 sentences split in 10.250574599995161 seconds\u001B[0m\n",
      "\u001B[97m2025-08-15 00:46:14,841 - utils.clean - INFO - Successfully written data to data/azerbaijani_data.txt\u001B[0m\n",
      "\u001B[97m2025-08-15 00:46:14,954 - utils.clean - INFO - Time took to clean the dataset: 1399.7759622000012 seconds\u001B[0m\n",
      "\u001B[97m2025-08-15 00:46:14,969 - utils.clean - INFO - Dataset cleaning started...\u001B[0m\n",
      "\u001B[97m2025-08-15 00:51:22,926 - utils.clean - INFO - 13048327 sentences split in 289.7059159000055 seconds\u001B[0m\n",
      "\u001B[97m2025-08-15 00:53:52,740 - utils.clean - INFO - Successfully written data to data/azerbaijani_data.txt\u001B[0m\n",
      "\u001B[97m2025-08-15 00:54:43,345 - utils.clean - INFO - 1432970 sentences split in 21.80483130000357 seconds\u001B[0m\n",
      "\u001B[97m2025-08-15 00:54:57,646 - utils.clean - INFO - Successfully written data to data/azerbaijani_data.txt\u001B[0m\n",
      "\u001B[97m2025-08-15 00:55:20,453 - utils.clean - INFO - 1428006 sentences split in 21.548955899997964 seconds\u001B[0m\n",
      "\u001B[97m2025-08-15 00:55:34,789 - utils.clean - INFO - Successfully written data to data/azerbaijani_data.txt\u001B[0m\n",
      "\u001B[97m2025-08-15 00:55:56,690 - utils.clean - INFO - 1443930 sentences split in 20.630394499996328 seconds\u001B[0m\n",
      "\u001B[97m2025-08-15 00:56:11,083 - utils.clean - INFO - Successfully written data to data/azerbaijani_data.txt\u001B[0m\n",
      "\u001B[97m2025-08-15 00:56:31,613 - utils.clean - INFO - 1336039 sentences split in 19.248706300000777 seconds\u001B[0m\n",
      "\u001B[97m2025-08-15 00:56:43,632 - utils.clean - INFO - Successfully written data to data/azerbaijani_data.txt\u001B[0m\n",
      "\u001B[97m2025-08-15 00:56:48,879 - utils.clean - INFO - 260103 sentences split in 4.553309299997636 seconds\u001B[0m\n",
      "\u001B[97m2025-08-15 00:56:53,020 - utils.clean - INFO - Successfully written data to data/azerbaijani_data.txt\u001B[0m\n",
      "\u001B[97m2025-08-15 00:56:58,021 - utils.clean - INFO - 265157 sentences split in 4.431246799998917 seconds\u001B[0m\n",
      "\u001B[97m2025-08-15 00:57:01,948 - utils.clean - INFO - Successfully written data to data/azerbaijani_data.txt\u001B[0m\n",
      "\u001B[97m2025-08-15 00:57:07,102 - utils.clean - INFO - 275030 sentences split in 4.601096700003836 seconds\u001B[0m\n",
      "\u001B[97m2025-08-15 00:57:11,250 - utils.clean - INFO - Successfully written data to data/azerbaijani_data.txt\u001B[0m\n",
      "\u001B[97m2025-08-15 00:57:16,835 - utils.clean - INFO - 283541 sentences split in 5.013376500006416 seconds\u001B[0m\n",
      "\u001B[97m2025-08-15 00:57:21,230 - utils.clean - INFO - Successfully written data to data/azerbaijani_data.txt\u001B[0m\n",
      "\u001B[97m2025-08-15 00:57:25,876 - utils.clean - INFO - 247504 sentences split in 4.108371499998611 seconds\u001B[0m\n",
      "\u001B[97m2025-08-15 00:57:29,612 - utils.clean - INFO - Successfully written data to data/azerbaijani_data.txt\u001B[0m\n",
      "\u001B[97m2025-08-15 00:57:34,304 - utils.clean - INFO - 258625 sentences split in 4.176266700000269 seconds\u001B[0m\n",
      "\u001B[97m2025-08-15 00:57:38,042 - utils.clean - INFO - Successfully written data to data/azerbaijani_data.txt\u001B[0m\n",
      "\u001B[97m2025-08-15 00:57:50,713 - utils.clean - INFO - 746118 sentences split in 11.746885200001998 seconds\u001B[0m\n",
      "\u001B[97m2025-08-15 00:57:59,136 - utils.clean - INFO - Successfully written data to data/azerbaijani_data.txt\u001B[0m\n",
      "\u001B[97m2025-08-15 00:58:16,096 - utils.clean - INFO - 998399 sentences split in 15.735143400001107 seconds\u001B[0m\n",
      "\u001B[97m2025-08-15 00:58:28,701 - utils.clean - INFO - Successfully written data to data/azerbaijani_data.txt\u001B[0m\n",
      "\u001B[97m2025-08-15 00:58:45,428 - utils.clean - INFO - 998707 sentences split in 15.461714999997639 seconds\u001B[0m\n",
      "\u001B[97m2025-08-15 00:58:59,631 - utils.clean - INFO - Successfully written data to data/azerbaijani_data.txt\u001B[0m\n",
      "\u001B[97m2025-08-15 00:59:16,468 - utils.clean - INFO - 998918 sentences split in 15.596527200003038 seconds\u001B[0m\n",
      "\u001B[97m2025-08-15 00:59:29,925 - utils.clean - INFO - Successfully written data to data/azerbaijani_data.txt\u001B[0m\n",
      "\u001B[97m2025-08-15 00:59:46,848 - utils.clean - INFO - 998343 sentences split in 15.672522900000331 seconds\u001B[0m\n",
      "\u001B[97m2025-08-15 00:59:59,721 - utils.clean - INFO - Successfully written data to data/azerbaijani_data.txt\u001B[0m\n",
      "\u001B[97m2025-08-15 01:00:17,068 - utils.clean - INFO - 998608 sentences split in 16.12066469999263 seconds\u001B[0m\n",
      "\u001B[97m2025-08-15 01:00:29,523 - utils.clean - INFO - Successfully written data to data/azerbaijani_data.txt\u001B[0m\n",
      "\u001B[97m2025-08-15 01:00:46,395 - utils.clean - INFO - 998592 sentences split in 15.562710300000617 seconds\u001B[0m\n",
      "\u001B[97m2025-08-15 01:00:58,703 - utils.clean - INFO - Successfully written data to data/azerbaijani_data.txt\u001B[0m\n",
      "\u001B[97m2025-08-15 01:01:16,256 - utils.clean - INFO - 998517 sentences split in 16.31194499999401 seconds\u001B[0m\n",
      "\u001B[97m2025-08-15 01:01:29,368 - utils.clean - INFO - Successfully written data to data/azerbaijani_data.txt\u001B[0m\n",
      "\u001B[97m2025-08-15 01:02:04,930 - utils.clean - INFO - 2146252 sentences split in 33.660476000004564 seconds\u001B[0m\n",
      "\u001B[97m2025-08-15 01:02:29,977 - utils.clean - INFO - Successfully written data to data/azerbaijani_data.txt\u001B[0m\n",
      "\u001B[97m2025-08-15 01:03:07,833 - utils.clean - INFO - 2335651 sentences split in 35.54256400000304 seconds\u001B[0m\n",
      "\u001B[97m2025-08-15 01:03:34,622 - utils.clean - INFO - Successfully written data to data/azerbaijani_data.txt\u001B[0m\n",
      "\u001B[97m2025-08-15 01:04:13,095 - utils.clean - INFO - 2275021 sentences split in 35.9099864000018 seconds\u001B[0m\n",
      "\u001B[97m2025-08-15 01:04:39,401 - utils.clean - INFO - Successfully written data to data/azerbaijani_data.txt\u001B[0m\n",
      "\u001B[97m2025-08-15 01:05:17,118 - utils.clean - INFO - 2194030 sentences split in 35.299969999992754 seconds\u001B[0m\n",
      "\u001B[97m2025-08-15 01:05:42,492 - utils.clean - INFO - Successfully written data to data/azerbaijani_data.txt\u001B[0m\n",
      "\u001B[97m2025-08-15 01:06:19,102 - utils.clean - INFO - 2222883 sentences split in 34.379243299990776 seconds\u001B[0m\n",
      "\u001B[97m2025-08-15 01:06:44,711 - utils.clean - INFO - Successfully written data to data/azerbaijani_data.txt\u001B[0m\n",
      "\u001B[97m2025-08-15 01:06:45,884 - utils.clean - INFO - 47199 sentences split in 0.7521660000056727 seconds\u001B[0m\n",
      "\u001B[97m2025-08-15 01:06:46,401 - utils.clean - INFO - Successfully written data to data/azerbaijani_data.txt\u001B[0m\n",
      "\u001B[97m2025-08-15 01:06:46,410 - utils.clean - INFO - Time took to clean the dataset: 1231.4534902999876 seconds\u001B[0m\n"
     ]
    }
   ],
   "execution_count": 4
  },
  {
   "metadata": {
    "ExecuteTime": {
     "end_time": "2025-08-14T21:46:19.548476Z",
     "start_time": "2025-08-14T21:06:46.768194Z"
    }
   },
   "cell_type": "code",
   "source": [
    "options = dict(\n",
    "  # Input spec\n",
    "  input=f\"{ROOT_DIR}/data/azerbaijani_data.txt\",\n",
    "  input_format=\"text\",\n",
    "  # Output spec\n",
    "  model_prefix=f\"{TOKENIZER_PATH}/azerbaijani_bpe\",\n",
    "  # Algorithm spec\n",
    "  model_type=\"bpe\",\n",
    "  vocab_size=40_000,\n",
    "  # Normalization\n",
    "  normalization_rule_name=\"identity\", # No normalization applied\n",
    "  remove_extra_whitespaces=False,\n",
    "  input_sentence_size=50_000_000, # Set to 0 zero to train on the whole dataset\n",
    "  max_sentence_length=4192, # Max number of bytes per sentence\n",
    "  seed_sentencepiece_size=1_000_000,\n",
    "  shuffle_input_sentence=True,\n",
    "  # Rare word handling\n",
    "  character_coverage=0.9995,\n",
    "  byte_fallback=True,\n",
    "  # Merge rules\n",
    "  split_digits=True,\n",
    "  split_by_unicode_script=True,\n",
    "  split_by_whitespace=True,\n",
    "  split_by_number=True,\n",
    "  max_sentencepiece_length=16,\n",
    "  add_dummy_prefix=True,\n",
    "  allow_whitespace_only_pieces=True,\n",
    "  # Special tokens\n",
    "  unk_id=0, # the UNK token must exist\n",
    "  bos_id=1, # The others are optional, set to -1 to turn off\n",
    "  eos_id=2,\n",
    "  pad_id=-1,\n",
    "  # Systems\n",
    "  num_threads=os.cpu_count()\n",
    ")\n",
    "\n",
    "spm.SentencePieceTrainer.train(**options)"
   ],
   "id": "d6aaed7a99d33d6e",
   "outputs": [],
   "execution_count": 5
  },
  {
   "metadata": {
    "ExecuteTime": {
     "end_time": "2025-08-14T21:46:21.037372Z",
     "start_time": "2025-08-14T21:46:19.747421Z"
    }
   },
   "cell_type": "code",
   "source": [
    "sp = spm.SentencePieceProcessor()\n",
    "sp.load(f\"{TOKENIZER_PATH}/azerbaijani_bpe.model\")\n",
    "vocab = [[sp.id_to_piece(idx), idx] for idx in range(sp.get_piece_size())]"
   ],
   "id": "456c384240e3c8f7",
   "outputs": [],
   "execution_count": 6
  },
  {
   "metadata": {
    "ExecuteTime": {
     "end_time": "2025-08-14T21:46:21.051705Z",
     "start_time": "2025-08-14T21:46:21.047680Z"
    }
   },
   "cell_type": "code",
   "source": [
    "azerbaijani_samples = [\n",
    "        \"Kitab deyəndə burda mədəniyyət, incəsənət nümunələri nəzərdə tuturam.\",\n",
    "        \"Uzun müddətdir ki, cəbhədə rəsmi olaraq atəşkəs hökm sürür.\",\n",
    "        \"Biz Bütöv Azərbaycançıyıq, bunu öz əməllərimizdə göstərmişik.\"\n",
    "]"
   ],
   "id": "d3968be7debd8be6",
   "outputs": [],
   "execution_count": 7
  },
  {
   "metadata": {
    "ExecuteTime": {
     "end_time": "2025-08-14T21:46:21.110201Z",
     "start_time": "2025-08-14T21:46:21.104146Z"
    }
   },
   "cell_type": "code",
   "source": [
    "for sentence in azerbaijani_samples:\n",
    "    ids = sp.encode(sentence)\n",
    "    print([sp.id_to_piece(idx) for idx in ids])"
   ],
   "id": "efee8638164a40e8",
   "outputs": [
    {
     "name": "stdout",
     "output_type": "stream",
     "text": [
      "['▁Kitab', '▁deyəndə', '▁burda', '▁mədəniyyət', ',', '▁incəsənət', '▁nümunələri', '▁nəzərdə', '▁tuturam', '.']\n",
      "['▁Uzun', '▁müddətdir', '▁ki', ',', '▁cəbhədə', '▁rəsmi', '▁olaraq', '▁atəşkəs', '▁hökm', '▁sürür', '.']\n",
      "['▁Biz', '▁Bütöv', '▁Azərbaycan', 'çı', 'yıq', ',', '▁bunu', '▁öz', '▁əməl', 'lərimizdə', '▁göstər', 'mişik', '.']\n"
     ]
    }
   ],
   "execution_count": 8
  }
 ],
 "metadata": {
  "language_info": {
   "name": "python"
  },
  "kernelspec": {
   "name": "python3",
   "language": "python",
   "display_name": "Python 3 (ipykernel)"
  }
 },
 "nbformat": 4,
 "nbformat_minor": 5
}
